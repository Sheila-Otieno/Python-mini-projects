{
  "nbformat": 4,
  "nbformat_minor": 0,
  "metadata": {
    "colab": {
      "name": "Rock paper scissors.ipynb",
      "provenance": [],
      "authorship_tag": "ABX9TyOKf1JE0nfEtbdMxb32RnEc",
      "include_colab_link": true
    },
    "kernelspec": {
      "name": "python3",
      "display_name": "Python 3"
    },
    "language_info": {
      "name": "python"
    }
  },
  "cells": [
    {
      "cell_type": "markdown",
      "metadata": {
        "id": "view-in-github",
        "colab_type": "text"
      },
      "source": [
        "<a href=\"https://colab.research.google.com/github/Sheila-Otieno/Python-mini-projects/blob/main/Rock_paper_scissors.ipynb\" target=\"_parent\"><img src=\"https://colab.research.google.com/assets/colab-badge.svg\" alt=\"Open In Colab\"/></a>"
      ]
    },
    {
      "cell_type": "code",
      "execution_count": null,
      "metadata": {
        "id": "mFM5xFB_Qgss"
      },
      "outputs": [],
      "source": [
        "import random"
      ]
    },
    {
      "cell_type": "code",
      "source": [
        "user_wins=0\n",
        "computer_wins=0"
      ],
      "metadata": {
        "id": "xERSWfQpQjjX"
      },
      "execution_count": null,
      "outputs": []
    },
    {
      "cell_type": "code",
      "source": [
        "options = [\"rock\",\"paper\",\"scissors\"]\n",
        "\n",
        "while True:\n",
        "  user_input = input(\"Type Rock/Paper/Scissors or Q to quit\").lower()\n",
        "\n",
        "  if user_input == \"q\":\n",
        "    break\n",
        "  if user_input not in options:\n",
        "    continue\n",
        "  \n",
        "  random_number = random.randint(0,2)\n",
        "  #0=rock 1= paper 2=scissors\n",
        "\n",
        "  computer_pick = options[random_number]\n",
        "  print(\"Computer picked\", computer_pick + \".\")\n",
        "\n",
        "  if user_input==\"scissors\" and computer_wins ==\"paper\":\n",
        "    print(\"You won\")\n",
        "    user_wins+=1\n",
        "\n",
        "  elif user_input == \"paper\" and computer_pick == \"rock\":\n",
        "    print(\"You won\")\n",
        "    user_wins +=1\n",
        "  elif user_input == \"rock\" and computer_pick == \"scissors\":\n",
        "    print(\"You won\")\n",
        "    user_wins += 1\n",
        "  elif user_input == computer_pick:\n",
        "    print(\"It's a draw\")\n",
        "    #user_wins +=1\n",
        "    #computer_wins +1\n",
        "  else:\n",
        "    print(\"You lost\")\n",
        "    computer_wins += 1\n",
        "\n",
        "\n",
        "print(\"You won {user_wins} times\")\n",
        "print(\"The computer won {computer_wins} times\")\n",
        "print(\"Goodbye\")\n"
      ],
      "metadata": {
        "colab": {
          "base_uri": "https://localhost:8080/"
        },
        "id": "10y7AVTNQn6W",
        "outputId": "77a32e7a-7eac-4199-ed1d-539e227f85da"
      },
      "execution_count": null,
      "outputs": [
        {
          "output_type": "stream",
          "name": "stdout",
          "text": [
            "Type Rock/Paper/Scissors or Q to quitscissors\n",
            "Computer picked paper.\n",
            "You lost\n",
            "Type Rock/Paper/Scissors or Q to quitpaper\n",
            "Computer picked rock.\n",
            "You won\n",
            "Type Rock/Paper/Scissors or Q to quitrock\n",
            "Computer picked rock.\n",
            "It's a draw\n",
            "Type Rock/Paper/Scissors or Q to quitpaper\n",
            "Computer picked rock.\n",
            "You won\n",
            "Type Rock/Paper/Scissors or Q to quitrock\n",
            "Computer picked paper.\n",
            "You lost\n",
            "Type Rock/Paper/Scissors or Q to quitpaper\n",
            "Computer picked rock.\n",
            "You won\n",
            "Type Rock/Paper/Scissors or Q to quitscissors\n",
            "Computer picked scissors.\n",
            "It's a draw\n",
            "Type Rock/Paper/Scissors or Q to quitrock\n",
            "Computer picked paper.\n",
            "You lost\n",
            "Type Rock/Paper/Scissors or Q to quitpaper\n",
            "Computer picked scissors.\n",
            "You lost\n",
            "Type Rock/Paper/Scissors or Q to quitrock\n",
            "Computer picked rock.\n",
            "It's a draw\n",
            "Type Rock/Paper/Scissors or Q to quitscissors\n",
            "Computer picked scissors.\n",
            "It's a draw\n",
            "Type Rock/Paper/Scissors or Q to quitQ\n",
            "You won {user_wins} times\n",
            "The computer won {computer_wins} times\n",
            "Goodbye[\n"
          ]
        }
      ]
    },
    {
      "cell_type": "code",
      "source": [
        "#Two player rock scissors\n",
        "\n",
        "import sys\n",
        "\n",
        "user_one = input(\"Pick a name\")\n",
        "user_two = input (\"Pick a name\")\n",
        "\n",
        "user1_ans = input(\"%s, Pick rock, paper or scissors: \" % user_one).lower()\n",
        "user2_ans = input(\"%s, Pick rock, paper or scissors: \" % user_two).lower()\n",
        "\n",
        "def compare(u1,u2):\n",
        "  if u1 == u2:\n",
        "    return print(\"It's a tie\")\n",
        "  elif u1 == 'rock':\n",
        "    if u2 == 'scissors':\n",
        "      return (\"Rock wins\")\n",
        "    else:\n",
        "      return (\"Paper wins\")\n",
        "  elif u1 == 'scissors':\n",
        "    if u2 == 'paper':\n",
        "      return(\"Scissor wins\")\n",
        "    else:\n",
        "      return(\"Rock wins\")\n",
        "  elif u1 == 'paper':\n",
        "    if u2 == 'rock':\n",
        "      return(\"Paper wins\")\n",
        "    else:\n",
        "      return(\"Scissors wins\")\n",
        "  else:\n",
        "    return(\"Invalid input, try again\")\n",
        "    sys.exit()\n",
        "\n",
        "print(compare(user1_ans,user2_ans))\n",
        "\n"
      ],
      "metadata": {
        "colab": {
          "base_uri": "https://localhost:8080/"
        },
        "id": "TVaYivmo3EEb",
        "outputId": "08b79a71-dbba-437d-f74e-59a3efea1bad"
      },
      "execution_count": null,
      "outputs": [
        {
          "output_type": "stream",
          "name": "stdout",
          "text": [
            "Pick a nameron\n",
            "Pick a nameyio\n",
            "ron, Pick rock, paper or scissors: rock\n",
            "yio, Pick rock, paper or scissors: scissors\n",
            "Rock wins\n"
          ]
        }
      ]
    }
  ]
}