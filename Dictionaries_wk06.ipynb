{
  "nbformat": 4,
  "nbformat_minor": 0,
  "metadata": {
    "colab": {
      "name": "Dictionaries wk06.ipynb",
      "provenance": [],
      "authorship_tag": "ABX9TyMRyswxmq1anrQdZ+JxmLw0",
      "include_colab_link": true
    },
    "kernelspec": {
      "name": "python3",
      "display_name": "Python 3"
    },
    "language_info": {
      "name": "python"
    }
  },
  "cells": [
    {
      "cell_type": "markdown",
      "metadata": {
        "id": "view-in-github",
        "colab_type": "text"
      },
      "source": [
        "<a href=\"https://colab.research.google.com/github/Sheila-Otieno/Python-mini-projects/blob/main/Dictionaries_wk06.ipynb\" target=\"_parent\"><img src=\"https://colab.research.google.com/assets/colab-badge.svg\" alt=\"Open In Colab\"/></a>"
      ]
    },
    {
      "cell_type": "code",
      "metadata": {
        "colab": {
          "base_uri": "https://localhost:8080/"
        },
        "id": "5ufaF-AMXLt8",
        "outputId": "395d63cf-56e6-4d15-a324-8144212b1784"
      },
      "source": [
        "#declaring a dictionary\n",
        "\n",
        "empty ={}\n",
        "person = {\"name\":\"John Smith\"}\n",
        "\n",
        "customer ={ \"name\":\"Morty\",\n",
        "           \"age\":\"26\"}\n",
        "\n",
        "print(customer)"
      ],
      "execution_count": null,
      "outputs": [
        {
          "output_type": "stream",
          "text": [
            "{'name': 'Morty', 'age': '26'}\n"
          ],
          "name": "stdout"
        }
      ]
    },
    {
      "cell_type": "code",
      "metadata": {
        "colab": {
          "base_uri": "https://localhost:8080/"
        },
        "id": "S-jluKeyYidg",
        "outputId": "185a439b-1c7d-4232-a0c9-ca888fac83c1"
      },
      "source": [
        "#accessing dictionary information\n",
        "\n",
        "person ={\"name\":\"John\"}\n",
        "print(person[\"name\"])"
      ],
      "execution_count": null,
      "outputs": [
        {
          "output_type": "stream",
          "text": [
            "John\n"
          ],
          "name": "stdout"
        }
      ]
    },
    {
      "cell_type": "code",
      "metadata": {
        "colab": {
          "base_uri": "https://localhost:8080/"
        },
        "id": "dvDFnIiCY8RY",
        "outputId": "466e3425-1436-4702-d3ea-f1dd5a197026"
      },
      "source": [
        "# using the get method to access dictionary information\n",
        "person = { \"name\": \"John\"}\n",
        "print( person.get(\"name\") )       # retrieves value of name key as before\n",
        "print( person.get(\"age\", \"Age is not available.\") )     # get is a secure way to retrieve information"
      ],
      "execution_count": null,
      "outputs": [
        {
          "output_type": "stream",
          "text": [
            "John\n",
            "Age is not available.\n"
          ],
          "name": "stdout"
        }
      ]
    },
    {
      "cell_type": "code",
      "metadata": {
        "colab": {
          "base_uri": "https://localhost:8080/"
        },
        "id": "fMCY7DQLZiWn",
        "outputId": "eaa0eb4a-b070-4b47-fdf2-9464a6b1d07f"
      },
      "source": [
        "# storing a list within a dictionary and accessing it\n",
        "data = { \"sports\": [ \"baseball\", \"football\", \"hockey\", \"soccer\" ] }\n",
        "print( data[\"sports\"][0] )  # first access the key, then the index"
      ],
      "execution_count": null,
      "outputs": [
        {
          "output_type": "stream",
          "text": [
            "baseball\n"
          ],
          "name": "stdout"
        }
      ]
    },
    {
      "cell_type": "code",
      "metadata": {
        "colab": {
          "base_uri": "https://localhost:8080/"
        },
        "id": "6hjh9GsNahpy",
        "outputId": "92280cb2-1332-4108-c8f6-cf66fe75660f"
      },
      "source": [
        "# storing a dictionary within a list and accessing it\n",
        "data = [ \"John\", \"Dennis\", { \"name\": \"Kirsten\" } ]\n",
        "print( data[2] )   # the dictionary is in index 2\n",
        "print( data[2][\"name\"] )   # first access the index, then access the key"
      ],
      "execution_count": null,
      "outputs": [
        {
          "output_type": "stream",
          "text": [
            "{'name': 'Kirsten'}\n",
            "Kirsten\n"
          ],
          "name": "stdout"
        }
      ]
    },
    {
      "cell_type": "code",
      "metadata": {
        "colab": {
          "base_uri": "https://localhost:8080/"
        },
        "id": "zNcGhkMZarCi",
        "outputId": "41b4b2a6-933e-4148-9eaa-e2aa2b76d12d"
      },
      "source": [
        "# storing a dictionary within a dictionary and accessing it\n",
        "data = {\n",
        "      \"team\": \"Boston Red Sox\",\n",
        "      \"wins\": { \"2018\": 108, \"2017\": 93 }\n",
        "}\n",
        "print( data[\"wins\"] )   # will output the dictionary within the wins key\n",
        "print( data[\"wins\"][\"2018\"] )   # first access the wins key, then the next key"
      ],
      "execution_count": null,
      "outputs": [
        {
          "output_type": "stream",
          "text": [
            "{'2018': 108, '2017': 93}\n",
            "108\n"
          ],
          "name": "stdout"
        }
      ]
    },
    {
      "cell_type": "code",
      "metadata": {
        "colab": {
          "base_uri": "https://localhost:8080/"
        },
        "id": "OZ5Zuj_QbbhU",
        "outputId": "c4234f22-79c4-4960-ec85-49f6c3278a04"
      },
      "source": [
        "# adding new key/value pairs to a dictionary\n",
        "car = { \"year\": 2018 }\n",
        "car[\"color\"] = \"Blue\"\n",
        "print( \"Year: {} \\t Color: {}\".format( car[\"year\"], car[\"color\"] ) )"
      ],
      "execution_count": null,
      "outputs": [
        {
          "output_type": "stream",
          "text": [
            "Year: 2018 \t Color: Blue\n"
          ],
          "name": "stdout"
        }
      ]
    },
    {
      "cell_type": "code",
      "metadata": {
        "colab": {
          "base_uri": "https://localhost:8080/"
        },
        "id": "NvdXPoyobmNT",
        "outputId": "89631414-792c-4c50-b4ed-d510ab569eb4"
      },
      "source": [
        "# updating a value for a key/value pair that already exists\n",
        "car = { \"year\": 2018, \"color\": \"Blue\" }\n",
        "car[\"color\"] = \"Red\"\n",
        "print( \"Year: {} \\t Color: {}\".format( car[\"year\"], car[\"color\"] ) )"
      ],
      "execution_count": null,
      "outputs": [
        {
          "output_type": "stream",
          "text": [
            "Year: 2018 \t Color: Red\n"
          ],
          "name": "stdout"
        }
      ]
    },
    {
      "cell_type": "code",
      "metadata": {
        "id": "WqtIdzT7b0ot"
      },
      "source": [
        "# deleting a key/value pair from a dictionary\n",
        "car = { \"year\": 2018 }\n",
        "try:\n",
        "      del car[\"year\"]\n",
        "      print(car)\n",
        "except:\n",
        "      print(\"That key does not exist\")"
      ],
      "execution_count": null,
      "outputs": []
    },
    {
      "cell_type": "code",
      "metadata": {
        "colab": {
          "base_uri": "https://localhost:8080/"
        },
        "id": "A6Fk7UwcdR5w",
        "outputId": "9af4d134-df95-4d40-8e32-9585f579e9ee"
      },
      "source": [
        "# looping over a dictionary via the keys\n",
        "person = { \"name\": \"John\", \"age\": 26 }\n",
        "for key in person.keys( ):\n",
        "      print(key)\n",
        "      print( person[key] )  # will output the value at the current key"
      ],
      "execution_count": null,
      "outputs": [
        {
          "output_type": "stream",
          "text": [
            "name\n",
            "John\n",
            "age\n",
            "26\n"
          ],
          "name": "stdout"
        }
      ]
    },
    {
      "cell_type": "code",
      "metadata": {
        "colab": {
          "base_uri": "https://localhost:8080/"
        },
        "id": "SB2-_4ZEdcS-",
        "outputId": "9a41dbe5-ff72-470a-e653-f83dacc0ec38"
      },
      "source": [
        "# looping over a dictionary via the values\n",
        "person = { \"name\": \"John\", \"age\": 26 }\n",
        "for value in person.values( ):\n",
        "      print(value)"
      ],
      "execution_count": null,
      "outputs": [
        {
          "output_type": "stream",
          "text": [
            "John\n",
            "26\n"
          ],
          "name": "stdout"
        }
      ]
    },
    {
      "cell_type": "code",
      "metadata": {
        "colab": {
          "base_uri": "https://localhost:8080/"
        },
        "id": "PiI8kD9ig_RB",
        "outputId": "412c7902-fdd6-4c5f-e3c2-ad78319777c0"
      },
      "source": [
        "# declaring a tuple\n",
        "t1 = (\"hello\", 2, \"hello\")    # with parens\n",
        "t2 = True, 1                  # without parens\n",
        "print( type(t1), type(t2) )     # both are tuples\n",
        "#t1[0] = 1     # will crash, tuples are immutable once declared"
      ],
      "execution_count": null,
      "outputs": [
        {
          "output_type": "stream",
          "text": [
            "<class 'tuple'> <class 'tuple'>\n"
          ],
          "name": "stdout"
        }
      ]
    },
    {
      "cell_type": "code",
      "metadata": {
        "id": "jNNP-MhThL1_"
      },
      "source": [
        "# declaring a set\n",
        "s1 = set([1, 2, 3, 1])    # uses the set keyword and square brackets\n",
        "s2 = {4, 4, 5}            # uses curly brackets, like dictionary\n",
        "print( type(s1), type(s2) )\n",
        "s1.add(5)      # using the add method to add new items to a set\n",
        "s1.remove(1)   # using the remove method to get rid of the value 1\n",
        "print(s1)     # notice when printed it removed the second \"1\" at the end"
      ],
      "execution_count": null,
      "outputs": []
    },
    {
      "cell_type": "code",
      "metadata": {
        "id": "75siU_bPtYTi"
      },
      "source": [
        "#Creating a User Database with CSV Files\n",
        "# import all necessary packages to be used\n",
        "import csv\n",
        "from IPython.display import clear_output"
      ],
      "execution_count": null,
      "outputs": []
    },
    {
      "cell_type": "code",
      "metadata": {
        "id": "W7nlnbd8vOa5"
      },
      "source": [
        "# handle user registration and writing to csv\n",
        "def registerUser( ):\n",
        "   with open(\"users.csv\", mode=\"a\", newline=\"\") as f:\n",
        "           writer = csv.writer(f, delimiter=\",\")\n",
        "           print(\"To register, please enter your info:\")\n",
        "           email = input(\"E-mail: \")\n",
        "           password = input(\"Password: \")\n",
        "           password2 = input(\"Re-type password: \")\n",
        "           clear_output( )\n",
        "           if password == password2:\n",
        "                   writer.writerow( [email, password] )\n",
        "                   print(\"You are now registered!\")\n",
        "           else:\n",
        "                   print(\"Something went wrong. Try again.\")"
      ],
      "execution_count": null,
      "outputs": []
    },
    {
      "cell_type": "code",
      "metadata": {
        "id": "078Ly1zivj3j"
      },
      "source": [
        "# ask for user info and return true to login or false if incorrect info\n",
        "def loginUser():\n",
        "   print(\"To login, please enter your info:\")\n",
        "   email = input(\"E-mail: \")\n",
        "   password = input(\"Password: \")\n",
        "   clear_output( )\n",
        "   with open(\"users.csv\", mode=\"r\") as f:\n",
        "           reader = csv.reader(f, delimiter=\",\")\n",
        "           for row in reader:\n",
        "                   if row == [email, password]:\n",
        "                           print(\"You are now logged in!\")\n",
        "                           return True\n",
        "   print(\"Something went wrong, try again.\")\n",
        "   return False"
      ],
      "execution_count": null,
      "outputs": []
    },
    {
      "cell_type": "code",
      "metadata": {
        "id": "mMwE4W_6yeMd"
      },
      "source": [
        "# variables for main loop\n",
        "active = True\n",
        "logged_in = False\n",
        " # main loop\n",
        "while active:\n",
        "   if logged_in:\n",
        "           print(\"1. Logout\\n2. Quit\")\n",
        "   else:\n",
        "           print(\"1. Login\\n2. Register\\n3. Quit\")\n",
        "   choice = input(\"What would you like to do? \").lower( )\n",
        "   clear_output( )\n",
        "   if choice == \"register\" and logged_in == False:\n",
        "           registerUser( )\n",
        "   elif choice == \"login\" and logged_in == False:\n",
        "           logged_in = loginUser( )\n",
        "   elif choice == \"quit\":\n",
        "           active = False\n",
        "           print(\"Thanks for using our software!\")\n",
        "   elif choice == \"logout\" and logged_in == True:\n",
        "          logged_in = False\n",
        "          print(\"You are now logged out.\")\n",
        "   else:\n",
        "           print(\"Sorry, please try again!\")"
      ],
      "execution_count": null,
      "outputs": []
    }
  ]
}