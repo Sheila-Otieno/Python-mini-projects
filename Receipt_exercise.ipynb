{
  "nbformat": 4,
  "nbformat_minor": 0,
  "metadata": {
    "colab": {
      "name": "Receipt exercise.ipynb",
      "provenance": [],
      "authorship_tag": "ABX9TyPdv40ORJ2VQOEejsw5EWET",
      "include_colab_link": true
    },
    "kernelspec": {
      "name": "python3",
      "display_name": "Python 3"
    },
    "language_info": {
      "name": "python"
    }
  },
  "cells": [
    {
      "cell_type": "markdown",
      "metadata": {
        "id": "view-in-github",
        "colab_type": "text"
      },
      "source": [
        "<a href=\"https://colab.research.google.com/github/Sheila-Otieno/Python-mini-projects/blob/main/Receipt_exercise.ipynb\" target=\"_parent\"><img src=\"https://colab.research.google.com/assets/colab-badge.svg\" alt=\"Open In Colab\"/></a>"
      ]
    },
    {
      "cell_type": "code",
      "metadata": {
        "id": "vpEdtNqqECpB"
      },
      "source": [
        "#create a product and price for three items\n",
        "p1_name, p1_price =\"Books\",49.95\n",
        "p2_name, p2_price =\"Computer\",579.99\n",
        "p3_name, p3_price =\"Monitor\",124.89"
      ],
      "execution_count": null,
      "outputs": []
    },
    {
      "cell_type": "code",
      "metadata": {
        "id": "f0EI6UrUGgoF"
      },
      "source": [
        "#create a company name\n",
        "company_name =\"coding temple, inc\"\n",
        "company_address = \"283 Franklin St.\"\n",
        "company_city = \"Boston, MA\""
      ],
      "execution_count": null,
      "outputs": []
    },
    {
      "cell_type": "code",
      "metadata": {
        "id": "41fWLd8CIDbj"
      },
      "source": [
        "#declare ending message\n",
        "message =\"Thanks for shopping with us today!\""
      ],
      "execution_count": null,
      "outputs": []
    },
    {
      "cell_type": "code",
      "metadata": {
        "colab": {
          "base_uri": "https://localhost:8080/"
        },
        "id": "73xGYeYVITM7",
        "outputId": "f7d66bd7-491b-4adc-8735-0f92b94b3b89"
      },
      "source": [
        "#create top border\n",
        "print(\"*\" * 50)"
      ],
      "execution_count": null,
      "outputs": [
        {
          "output_type": "stream",
          "text": [
            "**************************************************\n"
          ],
          "name": "stdout"
        }
      ]
    },
    {
      "cell_type": "code",
      "metadata": {
        "colab": {
          "base_uri": "https://localhost:8080/"
        },
        "id": "jqSUc8ijKAv8",
        "outputId": "57cd3692-7abb-4c92-99bf-6a2cc5fbf440"
      },
      "source": [
        "#print company informattion\n",
        "print( \"\\t\\t{}\".format(company_name.title()))\n",
        "print( \"\\t\\t{}\".format(company_address))\n",
        "print( \"\\t\\t{}\".format(company_city))"
      ],
      "execution_count": null,
      "outputs": [
        {
          "output_type": "stream",
          "text": [
            "\t\tCoding Temple, Inc\n",
            "\t\t283 Franklin St.\n",
            "\t\tBoston, MA\n"
          ],
          "name": "stdout"
        }
      ]
    },
    {
      "cell_type": "code",
      "metadata": {
        "colab": {
          "base_uri": "https://localhost:8080/"
        },
        "id": "x_QlgHotKhZQ",
        "outputId": "9d585f09-423f-4ee3-c0bf-3f4e21e4c9c6"
      },
      "source": [
        "#print out the header\n",
        "print(\"\\tProduct Name\\tProduct Price\")"
      ],
      "execution_count": null,
      "outputs": [
        {
          "output_type": "stream",
          "text": [
            "\tProduct Name\tProduct Price\n"
          ],
          "name": "stdout"
        }
      ]
    },
    {
      "cell_type": "code",
      "metadata": {
        "colab": {
          "base_uri": "https://localhost:8080/"
        },
        "id": "zWqiLIxdLA_p",
        "outputId": "fbb2001f-37c4-4a47-b8cc-fba6d6c635b8"
      },
      "source": [
        "# create a print statement for each product\n",
        "print( \"\\t{}\\t\\t${}\".format(p1_name.title( ), p1_price) )\n",
        "print( \"\\t{}\\t\\t${}\".format(p2_name.title( ), p2_price) )\n",
        "print( \"\\t{}\\t\\t${}\".format(p3_name.title( ), p3_price) )"
      ],
      "execution_count": null,
      "outputs": [
        {
          "output_type": "stream",
          "text": [
            "\tBooks\t\t$49.95\n",
            "\tComputer\t\t$579.99\n",
            "\tMonitor\t\t$124.89\n"
          ],
          "name": "stdout"
        }
      ]
    },
    {
      "cell_type": "code",
      "metadata": {
        "colab": {
          "base_uri": "https://localhost:8080/"
        },
        "id": "WTSlRi_FLQZI",
        "outputId": "648c9e8c-78fa-4995-f572-d69e4787ab0b"
      },
      "source": [
        "# print a line between sections\n",
        "print('=' * 50)"
      ],
      "execution_count": null,
      "outputs": [
        {
          "output_type": "stream",
          "text": [
            "==================================================\n"
          ],
          "name": "stdout"
        }
      ]
    },
    {
      "cell_type": "code",
      "metadata": {
        "colab": {
          "base_uri": "https://localhost:8080/"
        },
        "id": "FdNczHx4L66E",
        "outputId": "5b9a9402-6b0b-4e5c-c9b2-dab9a51cba81"
      },
      "source": [
        "# print out header for section of total\n",
        "print(\"\\t\\t\\tTotal\")"
      ],
      "execution_count": null,
      "outputs": [
        {
          "output_type": "stream",
          "text": [
            "\t\t\tTotal\n"
          ],
          "name": "stdout"
        }
      ]
    },
    {
      "cell_type": "code",
      "metadata": {
        "colab": {
          "base_uri": "https://localhost:8080/"
        },
        "id": "ujU_pU2zL_gN",
        "outputId": "1455fada-fea9-4fbb-b927-566fe59241c8"
      },
      "source": [
        "# calculate total price and print out\n",
        "total = p1_price + p2_price + p3_price\n",
        "print( \"\\t\\t\\t${}\".format(total) )"
      ],
      "execution_count": null,
      "outputs": [
        {
          "output_type": "stream",
          "text": [
            "\t\t\t$754.83\n"
          ],
          "name": "stdout"
        }
      ]
    },
    {
      "cell_type": "code",
      "metadata": {
        "colab": {
          "base_uri": "https://localhost:8080/"
        },
        "id": "OKj24XtgMJoM",
        "outputId": "3b1b82bd-b4c0-481f-dac5-cba2286573dd"
      },
      "source": [
        "# print a line between sections\n",
        "print( \"=\" * 50)"
      ],
      "execution_count": null,
      "outputs": [
        {
          "output_type": "stream",
          "text": [
            "==================================================\n"
          ],
          "name": "stdout"
        }
      ]
    },
    {
      "cell_type": "code",
      "metadata": {
        "colab": {
          "base_uri": "https://localhost:8080/"
        },
        "id": "6NBF7cMkMP-F",
        "outputId": "60d27423-7153-4303-dfa6-d60baa2d099c"
      },
      "source": [
        "# output thank you message\n",
        "print( \"\\n\\t{}\\n\".format(message) )"
      ],
      "execution_count": null,
      "outputs": [
        {
          "output_type": "stream",
          "text": [
            "\n",
            "\tThanks for shopping with us today!\n",
            "\n"
          ],
          "name": "stdout"
        }
      ]
    },
    {
      "cell_type": "code",
      "metadata": {
        "colab": {
          "base_uri": "https://localhost:8080/"
        },
        "id": "RrzYoYpNMVYo",
        "outputId": "677c2503-1177-4637-f224-1966bce1ffa9"
      },
      "source": [
        "# create a bottom border\n",
        "print( \"*\" * 50 )"
      ],
      "execution_count": null,
      "outputs": [
        {
          "output_type": "stream",
          "text": [
            "**************************************************\n"
          ],
          "name": "stdout"
        }
      ]
    },
    {
      "cell_type": "code",
      "metadata": {
        "colab": {
          "base_uri": "https://localhost:8080/"
        },
        "id": "KDI9NzQjNht6",
        "outputId": "02ac20a4-5d49-4205-cedd-6d1203948bc3"
      },
      "source": [
        "left_border = \"*\" * 50\n",
        "for f in left_border:\n",
        "  print( f)"
      ],
      "execution_count": null,
      "outputs": [
        {
          "output_type": "stream",
          "text": [
            "*\n",
            "*\n",
            "*\n",
            "*\n",
            "*\n",
            "*\n",
            "*\n",
            "*\n",
            "*\n",
            "*\n",
            "*\n",
            "*\n",
            "*\n",
            "*\n",
            "*\n",
            "*\n",
            "*\n",
            "*\n",
            "*\n",
            "*\n",
            "*\n",
            "*\n",
            "*\n",
            "*\n",
            "*\n",
            "*\n",
            "*\n",
            "*\n",
            "*\n",
            "*\n",
            "*\n",
            "*\n",
            "*\n",
            "*\n",
            "*\n",
            "*\n",
            "*\n",
            "*\n",
            "*\n",
            "*\n",
            "*\n",
            "*\n",
            "*\n",
            "*\n",
            "*\n",
            "*\n",
            "*\n",
            "*\n",
            "*\n",
            "*\n"
          ],
          "name": "stdout"
        }
      ]
    },
    {
      "cell_type": "code",
      "metadata": {
        "colab": {
          "base_uri": "https://localhost:8080/"
        },
        "id": "2nQSaNPXOll6",
        "outputId": "4ac8c0c7-5ffd-4090-f6d4-6c51c1f979d6"
      },
      "source": [
        "right_border = \"*\" * 50\n",
        "for f in right_border:\n",
        "  print( '{:>8} '.format(f))"
      ],
      "execution_count": null,
      "outputs": [
        {
          "output_type": "stream",
          "text": [
            "       * \n",
            "       * \n",
            "       * \n",
            "       * \n",
            "       * \n",
            "       * \n",
            "       * \n",
            "       * \n",
            "       * \n",
            "       * \n",
            "       * \n",
            "       * \n",
            "       * \n",
            "       * \n",
            "       * \n",
            "       * \n",
            "       * \n",
            "       * \n",
            "       * \n",
            "       * \n",
            "       * \n",
            "       * \n",
            "       * \n",
            "       * \n",
            "       * \n",
            "       * \n",
            "       * \n",
            "       * \n",
            "       * \n",
            "       * \n",
            "       * \n",
            "       * \n",
            "       * \n",
            "       * \n",
            "       * \n",
            "       * \n",
            "       * \n",
            "       * \n",
            "       * \n",
            "       * \n",
            "       * \n",
            "       * \n",
            "       * \n",
            "       * \n",
            "       * \n",
            "       * \n",
            "       * \n",
            "       * \n",
            "       * \n",
            "       * \n"
          ],
          "name": "stdout"
        }
      ]
    },
    {
      "cell_type": "code",
      "metadata": {
        "colab": {
          "base_uri": "https://localhost:8080/"
        },
        "id": "Q9_GJCiPMqGL",
        "outputId": "adc1faec-4051-4de3-c1ad-24836a304d97"
      },
      "source": [
        "#create top border\n",
        "print(\"*\" * 50)\n",
        "\n",
        "#print company informattion\n",
        "print( \"\\t\\t{}\".format(company_name.title()))\n",
        "print( \"\\t\\t{}\".format(company_address))\n",
        "print( \"\\t\\t{}\".format(company_city))\n",
        "\n",
        "#print out the header\n",
        "print(\"\\tProduct Name\\tProduct Price\")\n",
        "\n",
        "# create a print statement for each product\n",
        "print( \"\\t{}\\t\\t${}\".format(p1_name.title( ), p1_price) )\n",
        "print( \"\\t{}\\t\\t${}\".format(p2_name.title( ), p2_price) )\n",
        "print( \"\\t{}\\t\\t${}\".format(p3_name.title( ), p3_price) )\n",
        "\n",
        "# print a line between sections\n",
        "print('=' * 50)\n",
        "\n",
        "# print out header for section of total\n",
        "print(\"\\t\\t\\tTotal\")\n",
        "\n",
        "# calculate total price and print out\n",
        "total = p1_price + p2_price + p3_price\n",
        "print( \"\\t\\t\\t${}\".format(total) )\n",
        "\n",
        "# print a line between sections\n",
        "print( \"=\" * 50)\n",
        "\n",
        "# output thank you message\n",
        "print( \"\\n\\t{}\\n\".format(message) )\n",
        "\n",
        "# create a bottom border\n",
        "print( \"*\" * 50 )"
      ],
      "execution_count": null,
      "outputs": [
        {
          "output_type": "stream",
          "text": [
            "**************************************************\n",
            "\t\tCoding Temple, Inc\n",
            "\t\t283 Franklin St.\n",
            "\t\tBoston, MA\n",
            "\tProduct Name\tProduct Price\n",
            "\tBooks\t\t$49.95\n",
            "\tComputer\t\t$579.99\n",
            "\tMonitor\t\t$124.89\n",
            "==================================================\n",
            "\t\t\tTotal\n",
            "\t\t\t$754.83\n",
            "==================================================\n",
            "\n",
            "\tThanks for shopping with us today!\n",
            "\n",
            "**************************************************\n"
          ],
          "name": "stdout"
        }
      ]
    }
  ]
}